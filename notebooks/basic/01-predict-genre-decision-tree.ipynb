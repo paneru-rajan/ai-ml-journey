{
 "cells": [
  {
   "metadata": {},
   "cell_type": "markdown",
   "source": [
    "# Practice - Python Machine Learning Tutorial (Data Science)\n",
    "Usage a Decision Tree Classifier to find out the genre given age and gender.\n",
    "\n",
    "- GitHub: https://github.com/mosh-hamedani/python-supplementary-materials\n",
    "- YouTube: https://www.youtube.com/watch?v=7eh4d6sabA0"
   ],
   "id": "8b82bbd58ea6a7ac"
  },
  {
   "cell_type": "code",
   "execution_count": null,
   "id": "initial_id",
   "metadata": {
    "collapsed": true
   },
   "outputs": [],
   "source": "import pandas as pd"
  },
  {
   "metadata": {},
   "cell_type": "code",
   "outputs": [],
   "execution_count": null,
   "source": "",
   "id": "5dcd230dd03acae5"
  }
 ],
 "metadata": {
  "kernelspec": {
   "display_name": "Python 3",
   "language": "python",
   "name": "python3"
  },
  "language_info": {
   "codemirror_mode": {
    "name": "ipython",
    "version": 2
   },
   "file_extension": ".py",
   "mimetype": "text/x-python",
   "name": "python",
   "nbconvert_exporter": "python",
   "pygments_lexer": "ipython2",
   "version": "2.7.6"
  }
 },
 "nbformat": 4,
 "nbformat_minor": 5
}
